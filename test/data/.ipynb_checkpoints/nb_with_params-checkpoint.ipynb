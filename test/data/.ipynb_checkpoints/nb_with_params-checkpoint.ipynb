{
 "cells": [
  {
   "cell_type": "markdown",
   "id": "d434cd08-ef3c-43a6-b7fc-816828b8b07d",
   "metadata": {
    "tags": []
   },
   "source": [
    "# tag=dagstermill"
   ]
  },
  {
   "cell_type": "code",
   "execution_count": null,
   "id": "bcf73c21-6e1a-4acf-a18c-ced5cceabb93",
   "metadata": {
    "tags": [
     "dagstermill"
    ]
   },
   "outputs": [],
   "source": [
    "from dagster import Field\n",
    "# test\n",
    "dag_op_params = {\n",
    "    'name': \"name_op_1\",\n",
    "    'output_notebook_name': \"output_notebook_1\",\n",
    "    'config_schema': {\n",
    "        \"a\": Field(\n",
    "            int,\n",
    "            description='nb params',\n",
    "            default_value=10\n",
    "            )\n",
    "    },\n",
    "    'description': \"\"\"comp.notebook1\"\"\",\n",
    "    'ins': {'data_key': 'alias_data_key'},\n",
    "    'outs': ['data1']\n",
    "}"
   ]
  }
 ],
 "metadata": {
  "kernelspec": {
   "display_name": "Python 3 (ipykernel)",
   "language": "python",
   "name": "python3"
  },
  "language_info": {
   "codemirror_mode": {
    "name": "ipython",
    "version": 3
   },
   "file_extension": ".py",
   "mimetype": "text/x-python",
   "name": "python",
   "nbconvert_exporter": "python",
   "pygments_lexer": "ipython3",
   "version": "3.10.6"
  },
  "vscode": {
   "interpreter": {
    "hash": "d4d1e4263499bec80672ea0156c357c1ee493ec2b1c70f0acce89fc37c4a6abe"
   }
  }
 },
 "nbformat": 4,
 "nbformat_minor": 5
}
