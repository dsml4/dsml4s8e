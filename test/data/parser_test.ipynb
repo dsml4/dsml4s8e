{
 "cells": [
  {
   "cell_type": "code",
   "execution_count": 14,
   "id": "3ffbefbd-7f2d-45ed-b222-7b428cee0b4f",
   "metadata": {},
   "outputs": [],
   "source": [
    "%load_ext autoreload\n",
    "%autoreload 2"
   ]
  },
  {
   "cell_type": "markdown",
   "id": "d434cd08-ef3c-43a6-b7fc-816828b8b07d",
   "metadata": {},
   "source": [
    "# tag=parameters "
   ]
  },
  {
   "cell_type": "code",
   "execution_count": 2,
   "id": "bcf73c21-6e1a-4acf-a18c-ced5cceabb93",
   "metadata": {
    "tags": [
     "parameters"
    ]
   },
   "outputs": [],
   "source": [
    "parameters = {\n",
    "    'a': 1\n",
    "}\n",
    "env_params = {\n",
    "    \"cdlc_stage\": \"dev\"\n",
    "}"
   ]
  },
  {
   "cell_type": "markdown",
   "id": "66569b37-f5f9-4396-a4de-a843c3b01efa",
   "metadata": {},
   "source": [
    "# tag=interface  \n",
    "It is taged cell. Runer can finde this cell and execute code of the cell. "
   ]
  },
  {
   "cell_type": "code",
   "execution_count": 17,
   "id": "469e3ea9-71fa-41c5-bd3e-ff2f270a5d4f",
   "metadata": {},
   "outputs": [],
   "source": [
    "import sys\n",
    "if '../' not in sys.path:\n",
    "    sys.path.append('../')"
   ]
  },
  {
   "cell_type": "code",
   "execution_count": null,
   "id": "9b98d3c5-68a8-4394-a33d-0d531f583569",
   "metadata": {
    "tags": [
     "interface"
    ]
   },
   "outputs": [],
   "source": [
    "from dsml4s8e import notebook_interface\n",
    "if not 'nb_full_name' in parameters:\n",
    "    import ipynbname\n",
    "    parameters['nb_full_name'] = ipynbname.path()\n",
    "nbi = notebook_interface.NotebookInterface(resource_names = [],\n",
    "                                           artefact_names=['data1', 'data2'],\n",
    "                                           nb_full_name=parameters['nb_full_name']\n",
    "                                          )"
   ]
  },
  {
   "cell_type": "markdown",
   "id": "943e7045-5dda-4d17-aeef-9dabeefd9db8",
   "metadata": {},
   "source": [
    "# Component \n",
    "Coupling of notebook interface, parameters and component enviroment into run_info object to provides run leval entities to the **body** of notebook.\n",
    "Creating of immutable run id and unique urls for saving run results."
   ]
  },
  {
   "cell_type": "code",
   "execution_count": 28,
   "id": "65f6ec0f-aad9-43cb-ae00-a379999d9cfd",
   "metadata": {},
   "outputs": [],
   "source": [
    "#!!! catalog_validation(storage using) print component catalog urls\n",
    "# storage abstration, Component use abstract storage!\n",
    "# ? storage lib\n",
    "# .urls_validation()"
   ]
  },
  {
   "cell_type": "markdown",
   "id": "0c2e8058-5c9b-42ed-afec-c83fc11f3780",
   "metadata": {},
   "source": [
    "# Body  \n",
    "In the body urls and parameters must be immutable.  \n",
    "And all external interactions must be implemented via component interface."
   ]
  },
  {
   "cell_type": "code",
   "execution_count": 41,
   "id": "af471635-6182-48fd-a045-5a8fa196a6e6",
   "metadata": {
    "tags": [
     "results"
    ]
   },
   "outputs": [
    {
     "name": "stdout",
     "output_type": "stream",
     "text": [
      "{\n",
      "    \"artefacts\": {\n",
      "        \"pipeline_example.data_load.test.data1\": \"/home/jovyan/data/dev/pipeline_example/data_load/run-22-09-19-112951/test/data1\",\n",
      "        \"pipeline_example.data_load.test.data2\": \"/home/jovyan/data/dev/pipeline_example/data_load/run-22-09-19-112951/test/data2\"\n",
      "    },\n",
      "    \"resources\": {}\n",
      "}\n"
     ]
    }
   ],
   "source": [
    "print(comp_env.to_json())"
   ]
  }
 ],
 "metadata": {
  "kernelspec": {
   "display_name": "Python 3 (ipykernel)",
   "language": "python",
   "name": "python3"
  },
  "language_info": {
   "codemirror_mode": {
    "name": "ipython",
    "version": 3
   },
   "file_extension": ".py",
   "mimetype": "text/x-python",
   "name": "python",
   "nbconvert_exporter": "python",
   "pygments_lexer": "ipython3",
   "version": "3.10.6 | packaged by conda-forge | (main, Aug 22 2022, 20:35:26) [GCC 10.4.0]"
  },
  "vscode": {
   "interpreter": {
    "hash": "d4d1e4263499bec80672ea0156c357c1ee493ec2b1c70f0acce89fc37c4a6abe"
   }
  }
 },
 "nbformat": 4,
 "nbformat_minor": 5
}
