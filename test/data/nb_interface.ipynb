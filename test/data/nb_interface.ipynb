{
 "cells": [
  {
   "cell_type": "markdown",
   "id": "d434cd08-ef3c-43a6-b7fc-816828b8b07d",
   "metadata": {},
   "source": [
    "# tag=parameters "
   ]
  },
  {
   "cell_type": "code",
   "execution_count": null,
   "id": "bcf73c21-6e1a-4acf-a18c-ced5cceabb93",
   "metadata": {
    "tags": [
     "parameters"
    ]
   },
   "outputs": [],
   "source": [
    "parameters = {\n",
    "    'a': 1\n",
    "}\n",
    "env_params = {\n",
    "    \"cdlc_stage\": \"dev\"\n",
    "}"
   ]
  },
  {
   "cell_type": "markdown",
   "id": "66569b37-f5f9-4396-a4de-a843c3b01efa",
   "metadata": {},
   "source": [
    "# tag=interface  \n",
    "It is taged cell. Runer can finde this cell and execute code of the cell. "
   ]
  },
  {
   "cell_type": "code",
   "execution_count": null,
   "id": "9b98d3c5-68a8-4394-a33d-0d531f583569",
   "metadata": {
    "tags": [
     "interface"
    ]
   },
   "outputs": [],
   "source": [
    "from dsml4s8e.notebook_interface import NotebookInterface\n",
    "nbi = NotebookInterface(resource_names = [],\n",
    "                        artefact_names=['data1', 'data2'],\n",
    "                        nb_full_name=parameters['nb_full_name']\n",
    "                        )"
   ]
  }
 ],
 "metadata": {
  "kernelspec": {
   "display_name": "Python 3 (ipykernel)",
   "language": "python",
   "name": "python3"
  },
  "language_info": {
   "codemirror_mode": {
    "name": "ipython",
    "version": 3
   },
   "file_extension": ".py",
   "mimetype": "text/x-python",
   "name": "python",
   "nbconvert_exporter": "python",
   "pygments_lexer": "ipython3",
   "version": "3.10.6"
  },
  "vscode": {
   "interpreter": {
    "hash": "d4d1e4263499bec80672ea0156c357c1ee493ec2b1c70f0acce89fc37c4a6abe"
   }
  }
 },
 "nbformat": 4,
 "nbformat_minor": 5
}
