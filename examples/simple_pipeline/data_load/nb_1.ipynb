{
 "cells": [
  {
   "cell_type": "code",
   "execution_count": 1,
   "id": "27cc73dd-4fff-4cbd-989f-8b4405cd9e91",
   "metadata": {
    "tags": []
   },
   "outputs": [],
   "source": [
    "%load_ext autoreload\n",
    "%autoreload 2"
   ]
  },
  {
   "cell_type": "markdown",
   "id": "9a0d7571-e861-48e6-9e0f-10e11862acda",
   "metadata": {
    "tags": []
   },
   "source": [
    "# A dagster operation definition"
   ]
  },
  {
   "cell_type": "code",
   "execution_count": 2,
   "id": "c8eecfd5-c671-49e0-893e-297ea6a22647",
   "metadata": {
    "tags": [
     "op_parameters"
    ]
   },
   "outputs": [],
   "source": [
    "from dagster import Field\n",
    "from dsml4s8e.nb_op import NbOp\n",
    "op = NbOp(\n",
    "    config_schema={\n",
    "        \"a\": Field(\n",
    "            int,\n",
    "            description='this is the paramentr description',\n",
    "            default_value=10\n",
    "            )\n",
    "    },\n",
    "    outs=['data1']\n",
    ")"
   ]
  },
  {
   "cell_type": "markdown",
   "id": "f22f6cd0-f6fe-4f96-9735-29d7fbf367ac",
   "metadata": {
    "tags": []
   },
   "source": [
    " # The next cell with the tag 'parameters'\n",
    " \n",
    "The tag parameters is used by papermill look [papermill docs](https://papermill.readthedocs.io/en/latest/usage-parameterize.html#designate-parameters-for-a-cell).\n",
    "\n",
    "A cell with the tag 'parameters' is replaced with a cell with tag 'injected-parameters' when notebook executed by dagstermill which a injected-cell use papermill."
   ]
  },
  {
   "cell_type": "code",
   "execution_count": 3,
   "id": "6a9a4c7f-d5ce-463f-966c-ba45cb2f1d9e",
   "metadata": {
    "tags": [
     "parameters"
    ]
   },
   "outputs": [],
   "source": [
    "context = op.get_context()"
   ]
  },
  {
   "cell_type": "markdown",
   "id": "e7f76010-4338-4777-a631-1833e28a63b8",
   "metadata": {
    "tags": []
   },
   "source": [
    "# The notbook Interface"
   ]
  },
  {
   "cell_type": "code",
   "execution_count": 4,
   "id": "f69a4a5d-df3e-4954-8bc2-c4238b3bdfac",
   "metadata": {
    "tags": []
   },
   "outputs": [],
   "source": [
    "from dsml4s8e.dsmlcatalog.dagster_home import DagsterStorageCatalog\n",
    "urls = op.get_data_urls(\n",
    "                       locals_=locals(),\n",
    "                       storage_catalog=DagsterStorageCatalog(\n",
    "                           dagster_context=context)\n",
    "                       )"
   ]
  },
  {
   "cell_type": "markdown",
   "id": "e47ba293-0fb4-40e2-be27-96339a920a72",
   "metadata": {
    "tags": []
   },
   "source": [
    "# The notebook body\n",
    "In a body should be used data only from a data catalog.\n",
    "To get access to data from a notebook should be used an immutable variable **urls** from an interface part.\n",
    "All parameters should be in **context.op_config**."
   ]
  },
  {
   "cell_type": "code",
   "execution_count": 5,
   "id": "f4307b48-9ec5-49f9-b806-c100a30a1f98",
   "metadata": {
    "tags": []
   },
   "outputs": [
    {
     "data": {
      "text/plain": [
       "'/home/jovyan/work/dagster_home/storage/740292c2-3f67-4cf3-835a-1581d0be848f/nb_1/data1'"
      ]
     },
     "execution_count": 5,
     "metadata": {},
     "output_type": "execute_result"
    }
   ],
   "source": [
    "urls.outs.simple_pipeline.data_load.nb_1.data1"
   ]
  },
  {
   "cell_type": "code",
   "execution_count": 6,
   "id": "3b255b54-c399-45dc-a520-bc03d723b552",
   "metadata": {
    "tags": []
   },
   "outputs": [
    {
     "data": {
      "text/plain": [
       "{'a': 10}"
      ]
     },
     "execution_count": 6,
     "metadata": {},
     "output_type": "execute_result"
    }
   ],
   "source": [
    "context.op_config"
   ]
  },
  {
   "cell_type": "code",
   "execution_count": 7,
   "id": "c0c28576-5f54-423d-bd9f-dd25cd79ac9d",
   "metadata": {
    "tags": []
   },
   "outputs": [
    {
     "name": "stdout",
     "output_type": "stream",
     "text": [
      "outs:\n",
      "url_nb_1_data1 = \"/home/jovyan/work/dagster_home/storage/740292c2-3f67-4cf3-835a-1581d0be848f/nb_1/data1\"\n"
     ]
    }
   ],
   "source": [
    "op.pass_outs_to_next_step()"
   ]
  }
 ],
 "metadata": {
  "kernelspec": {
   "display_name": "Python 3 (ipykernel)",
   "language": "python",
   "name": "python3"
  },
  "language_info": {
   "codemirror_mode": {
    "name": "ipython",
    "version": 3
   },
   "file_extension": ".py",
   "mimetype": "text/x-python",
   "name": "python",
   "nbconvert_exporter": "python",
   "pygments_lexer": "ipython3",
   "version": "3.10.9"
  }
 },
 "nbformat": 4,
 "nbformat_minor": 5
}
