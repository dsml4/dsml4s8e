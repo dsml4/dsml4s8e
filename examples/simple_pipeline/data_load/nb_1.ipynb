{
 "cells": [
  {
   "cell_type": "code",
   "execution_count": 1,
   "id": "27cc73dd-4fff-4cbd-989f-8b4405cd9e91",
   "metadata": {
    "tags": []
   },
   "outputs": [],
   "source": [
    "%load_ext autoreload\n",
    "%autoreload 2"
   ]
  },
  {
   "cell_type": "code",
   "execution_count": 1,
   "id": "b475a637-85cc-449f-bc43-6abca28caf87",
   "metadata": {
    "tags": []
   },
   "outputs": [],
   "source": [
    "import dagstermill"
   ]
  },
  {
   "cell_type": "code",
   "execution_count": 6,
   "id": "c8eecfd5-c671-49e0-893e-297ea6a22647",
   "metadata": {
    "tags": [
     "op_parameters"
    ]
   },
   "outputs": [],
   "source": [
    "from dagster import Field\n",
    "op_parameters = {\n",
    "    'config_schema': {\n",
    "        \"a\": Field(\n",
    "            int,\n",
    "            description='this is the paramentr description',\n",
    "            default_value=10\n",
    "            )\n",
    "    },\n",
    "    'outs': ['data1']\n",
    "}"
   ]
  },
  {
   "cell_type": "code",
   "execution_count": 7,
   "id": "6a9a4c7f-d5ce-463f-966c-ba45cb2f1d9e",
   "metadata": {
    "tags": [
     "parameters"
    ]
   },
   "outputs": [],
   "source": [
    "from dsml4s8e import dag_params\n",
    "context = dagstermill.get_context(op_config=\n",
    "                                  dag_params.get_op_config(op_parameters)\n",
    "                                 )"
   ]
  },
  {
   "cell_type": "markdown",
   "id": "e7f76010-4338-4777-a631-1833e28a63b8",
   "metadata": {},
   "source": [
    "# The Interface"
   ]
  },
  {
   "cell_type": "code",
   "execution_count": 11,
   "id": "f69a4a5d-df3e-4954-8bc2-c4238b3bdfac",
   "metadata": {
    "tags": []
   },
   "outputs": [
    {
     "name": "stdout",
     "output_type": "stream",
     "text": [
      "/home/jovyan/work/dev/dsml4s8e/examples/simple_pipeline/dagster_home/storage/bd48b1b9-49da-4813-9dc5-19e7b68eece5\n"
     ]
    }
   ],
   "source": [
    "from dsml4s8e.nb_interface import NBInterface\n",
    "from dsml4s8e.dsmlcatalog.dagster_home import DagsterStorageCatalog\n",
    "nb_interface = NBInterface(dagster_context=context,\n",
    "                       dag_op_params = op_parameters,\n",
    "                       local_vars=locals(),\n",
    "                       storage_catalog=DagsterStorageCatalog(\n",
    "                           dagster_context=context)\n",
    "                       )\n",
    "urls = nb_interface.get_data_urls()"
   ]
  },
  {
   "cell_type": "markdown",
   "id": "e47ba293-0fb4-40e2-be27-96339a920a72",
   "metadata": {},
   "source": [
    "# The Body\n",
    "In body should be used data only from data catalog.\n",
    "To get access to data should be used interface object **urls**.\n",
    "All parameters should be in **context.op_config**."
   ]
  },
  {
   "cell_type": "code",
   "execution_count": 13,
   "id": "f4307b48-9ec5-49f9-b806-c100a30a1f98",
   "metadata": {
    "tags": []
   },
   "outputs": [
    {
     "data": {
      "text/plain": [
       "'/home/jovyan/work/dev/dsml4s8e/examples/simple_pipeline/dagster_home/storage/bd48b1b9-49da-4813-9dc5-19e7b68eece5/nb_1/data1'"
      ]
     },
     "execution_count": 13,
     "metadata": {},
     "output_type": "execute_result"
    }
   ],
   "source": [
    "urls.outs.simple_pipeline.data_load.nb_1.data1"
   ]
  },
  {
   "cell_type": "code",
   "execution_count": 14,
   "id": "3b255b54-c399-45dc-a520-bc03d723b552",
   "metadata": {
    "tags": []
   },
   "outputs": [
    {
     "data": {
      "text/plain": [
       "{'a': 10}"
      ]
     },
     "execution_count": 14,
     "metadata": {},
     "output_type": "execute_result"
    }
   ],
   "source": [
    "context.op_config"
   ]
  },
  {
   "cell_type": "code",
   "execution_count": 15,
   "id": "c0c28576-5f54-423d-bd9f-dd25cd79ac9d",
   "metadata": {
    "tags": []
   },
   "outputs": [
    {
     "name": "stdout",
     "output_type": "stream",
     "text": [
      "outs:\n",
      "url_nb_1_data1 = \"/home/jovyan/work/dev/dsml4s8e/examples/simple_pipeline/dagster_home/storage/bd48b1b9-49da-4813-9dc5-19e7b68eece5/nb_1/data1\"\n"
     ]
    }
   ],
   "source": [
    "nb_interface.send_outs_data_urls_to_next_stages(dagstermill.yield_result)"
   ]
  }
 ],
 "metadata": {
  "kernelspec": {
   "display_name": "Python 3 (ipykernel)",
   "language": "python",
   "name": "python3"
  },
  "language_info": {
   "codemirror_mode": {
    "name": "ipython",
    "version": 3
   },
   "file_extension": ".py",
   "mimetype": "text/x-python",
   "name": "python",
   "nbconvert_exporter": "python",
   "pygments_lexer": "ipython3",
   "version": "3.10.9"
  }
 },
 "nbformat": 4,
 "nbformat_minor": 5
}
