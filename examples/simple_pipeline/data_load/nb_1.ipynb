{
 "cells": [
  {
   "cell_type": "code",
   "execution_count": 1,
   "id": "27cc73dd-4fff-4cbd-989f-8b4405cd9e91",
   "metadata": {},
   "outputs": [],
   "source": [
    "%load_ext autoreload\n",
    "%autoreload 2"
   ]
  },
  {
   "cell_type": "code",
   "execution_count": 2,
   "id": "b475a637-85cc-449f-bc43-6abca28caf87",
   "metadata": {},
   "outputs": [],
   "source": [
    "import dagstermill"
   ]
  },
  {
   "cell_type": "code",
   "execution_count": 3,
   "id": "c8eecfd5-c671-49e0-893e-297ea6a22647",
   "metadata": {
    "tags": [
     "op_parameters"
    ]
   },
   "outputs": [],
   "source": [
    "from dagster import Field\n",
    "op_parameters = {\n",
    "    'name': \"op_nb_1\",\n",
    "    'output_notebook_name': \"out_nb_1\",\n",
    "    'config_schema': {\n",
    "        \"a\": Field(\n",
    "            int,\n",
    "            description='this is the paramentr description',\n",
    "            default_value=10\n",
    "            )\n",
    "    },\n",
    "    'outs': ['data1']\n",
    "}"
   ]
  },
  {
   "cell_type": "code",
   "execution_count": 4,
   "id": "6a9a4c7f-d5ce-463f-966c-ba45cb2f1d9e",
   "metadata": {
    "tags": [
     "parameters"
    ]
   },
   "outputs": [],
   "source": [
    "from dsml4s8e import dag_params\n",
    "context = dagstermill.get_context(op_config=\n",
    "                                  dag_params.get_op_config(op_parameters)\n",
    "                                 )"
   ]
  },
  {
   "cell_type": "markdown",
   "id": "e7f76010-4338-4777-a631-1833e28a63b8",
   "metadata": {},
   "source": [
    "# The Interface"
   ]
  },
  {
   "cell_type": "code",
   "execution_count": 5,
   "id": "f69a4a5d-df3e-4954-8bc2-c4238b3bdfac",
   "metadata": {},
   "outputs": [],
   "source": [
    "from dsml4s8e.nb_interface import NBInterface\n",
    "from dsml4s8e.local_storage import LoacalStorageCatalog, write_pandas_df\n",
    "nb_interface = NBInterface(dagster_context=context,\n",
    "                       dag_op_params = op_parameters,\n",
    "                       local_vars=locals(),\n",
    "                       storage_catalog=LoacalStorageCatalog(\n",
    "                           prefix='/home/jovyan/data',\n",
    "                           dagster_context=context)\n",
    "                       )\n",
    "urls = nb_interface.get_data_urls()"
   ]
  },
  {
   "cell_type": "markdown",
   "id": "e47ba293-0fb4-40e2-be27-96339a920a72",
   "metadata": {},
   "source": [
    "# The Body\n",
    "In body should be used data only from data catalog.\n",
    "To get access to data should be used interface object **urls**.\n",
    "All parameters should be in **context.op_config**."
   ]
  },
  {
   "cell_type": "code",
   "execution_count": 6,
   "id": "f4307b48-9ec5-49f9-b806-c100a30a1f98",
   "metadata": {},
   "outputs": [
    {
     "data": {
      "text/plain": [
       "Simple_pipelineData_loadNb_1(data1='/home/jovyan/data/dev/simple_pipeline/data_load/dd10f6c4-4a56-460b-91f9-427422643b62/nb_1/data1')"
      ]
     },
     "execution_count": 6,
     "metadata": {},
     "output_type": "execute_result"
    }
   ],
   "source": [
    "urls.outs.simple_pipeline.data_load.nb_1"
   ]
  },
  {
   "cell_type": "code",
   "execution_count": 7,
   "id": "3b255b54-c399-45dc-a520-bc03d723b552",
   "metadata": {},
   "outputs": [
    {
     "data": {
      "text/plain": [
       "{'a': 10}"
      ]
     },
     "execution_count": 7,
     "metadata": {},
     "output_type": "execute_result"
    }
   ],
   "source": [
    "context.op_config"
   ]
  },
  {
   "cell_type": "code",
   "execution_count": 8,
   "id": "c0c28576-5f54-423d-bd9f-dd25cd79ac9d",
   "metadata": {},
   "outputs": [
    {
     "name": "stdout",
     "output_type": "stream",
     "text": [
      "outs:\n",
      "nb_1_data1 = \"/home/jovyan/data/dev/pipeline_example/data_load/f5faa534-7e29-4e63-a38a-28db174b04dc/nb_1/data1\"\n"
     ]
    }
   ],
   "source": [
    "nb_interface.send_outs_data_urls_to_next_stages(dagstermill.yield_result)"
   ]
  }
 ],
 "metadata": {
  "kernelspec": {
   "display_name": "Python 3 (ipykernel)",
   "language": "python",
   "name": "python3"
  },
  "language_info": {
   "codemirror_mode": {
    "name": "ipython",
    "version": 3
   },
   "file_extension": ".py",
   "mimetype": "text/x-python",
   "name": "python",
   "nbconvert_exporter": "python",
   "pygments_lexer": "ipython3",
   "version": "3.10.6"
  }
 },
 "nbformat": 4,
 "nbformat_minor": 5
}
