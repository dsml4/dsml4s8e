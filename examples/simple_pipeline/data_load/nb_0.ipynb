{
 "cells": [
  {
   "cell_type": "code",
   "execution_count": 1,
   "id": "27cc73dd-4fff-4cbd-989f-8b4405cd9e91",
   "metadata": {
    "tags": []
   },
   "outputs": [],
   "source": [
    "%load_ext autoreload\n",
    "%autoreload 2"
   ]
  },
  {
   "cell_type": "markdown",
   "id": "9a0d7571-e861-48e6-9e0f-10e11862acda",
   "metadata": {
    "tags": []
   },
   "source": [
    "  ### 1. Define a notebook as a Dagster operation (op)\n",
    "A cell with the tag **'op_parameters'**. About `config_schema` see [Dagstermill notebooks as ops](https://docs.dagster.io/integrations/dagstermill/reference#notebooks-as-ops)."
   ]
  },
  {
   "cell_type": "code",
   "execution_count": 2,
   "id": "c8eecfd5-c671-49e0-893e-297ea6a22647",
   "metadata": {
    "tags": [
     "op_parameters"
    ]
   },
   "outputs": [],
   "source": [
    "from dagster import Field\n",
    "from dsml4s8e.nb_op import NbOp\n",
    "op = NbOp(\n",
    "    config_schema={\n",
    "        \"a\": Field(\n",
    "            int,\n",
    "            description='this is the paramentr description',\n",
    "            default_value=10\n",
    "            )\n",
    "    },\n",
    "    outs=['data0']\n",
    ")"
   ]
  },
  {
   "cell_type": "markdown",
   "id": "343886c1-e6e2-42eb-9dfb-dbbf00457c70",
   "metadata": {
    "tags": []
   },
   "source": [
    "  ### 2. Initialize an op context \n",
    "\n",
    "A cell with the tag **'parameters'**. This tag is used by [Papermill](https://papermill.readthedocs.io/en/latest/usage-parameterize.html#designate-parameters-for-a-cell). The cell is replaced with a cell with the tag **'injected-parameters'** when a notebook is executed by [Dagstermill](https://docs.dagster.io/integrations/dagstermill/reference)"
   ]
  },
  {
   "cell_type": "code",
   "execution_count": 3,
   "id": "6a9a4c7f-d5ce-463f-966c-ba45cb2f1d9e",
   "metadata": {
    "tags": [
     "parameters"
    ]
   },
   "outputs": [],
   "source": [
    "context = op.get_context()"
   ]
  },
  {
   "cell_type": "markdown",
   "id": "e7f76010-4338-4777-a631-1833e28a63b8",
   "metadata": {
    "tags": []
   },
   "source": [
    "  ### 3. Initialize an op data catalog"
   ]
  },
  {
   "cell_type": "code",
   "execution_count": 4,
   "id": "f69a4a5d-df3e-4954-8bc2-c4238b3bdfac",
   "metadata": {
    "tags": []
   },
   "outputs": [],
   "source": [
    "from dsml4s8e.dsmlcatalog.dagster_home import DagsterStorageCatalog\n",
    "catalog = op.get_catalog(\n",
    "                       locals_=locals(),\n",
    "                       storage_catalog=DagsterStorageCatalog(\n",
    "                           dagster_context=context)\n",
    "                       )"
   ]
  },
  {
   "cell_type": "markdown",
   "id": "e47ba293-0fb4-40e2-be27-96339a920a72",
   "metadata": {
    "tags": []
   },
   "source": [
    "### A body\n",
    "To read input data and to save output data should be used paths only from a data catalog.\n",
    "\n",
    "Using only immutable variables from a **catalog** variable garants reproducibility of an operation.\n",
    "\n",
    "All ussing in a body parameters should be gotten from **context.op_config**."
   ]
  },
  {
   "cell_type": "code",
   "execution_count": 5,
   "id": "f4307b48-9ec5-49f9-b806-c100a30a1f98",
   "metadata": {
    "tags": []
   },
   "outputs": [
    {
     "data": {
      "text/plain": [
       "'/home/jovyan/work/dagster_home/storage/f7960576-5323-4119-9349-db6572a4600c/nb_0/data0'"
      ]
     },
     "execution_count": 5,
     "metadata": {},
     "output_type": "execute_result"
    }
   ],
   "source": [
    "catalog.outs.simple_pipeline.data_load.nb_0.data0"
   ]
  },
  {
   "cell_type": "code",
   "execution_count": 6,
   "id": "3b255b54-c399-45dc-a520-bc03d723b552",
   "metadata": {
    "tags": []
   },
   "outputs": [
    {
     "data": {
      "text/plain": [
       "{'a': 10}"
      ]
     },
     "execution_count": 6,
     "metadata": {},
     "output_type": "execute_result"
    }
   ],
   "source": [
    "context.op_config"
   ]
  },
  {
   "cell_type": "markdown",
   "id": "750c51d9-2f93-4909-b6e0-21f0d3a496aa",
   "metadata": {},
   "source": [
    "  ### 4. Paths of output data produced by the notebook are passed to next steps"
   ]
  },
  {
   "cell_type": "code",
   "execution_count": 7,
   "id": "c0c28576-5f54-423d-bd9f-dd25cd79ac9d",
   "metadata": {
    "tags": []
   },
   "outputs": [
    {
     "name": "stdout",
     "output_type": "stream",
     "text": [
      "Strings below can be pasted in cells with tags 'parameters' of next notebooks.\n",
      "\n",
      "path_nb_0_data0 = '/home/jovyan/work/dagster_home/storage/f7960576-5323-4119-9349-db6572a4600c/nb_0/data0'\n",
      "\n",
      "Strings below can be pasted in code of declaration of NbOp\n",
      "in cells with tags 'op_parameters' of next notebooks.\n",
      "\n",
      "'simple_pipeline.data_load.nb_0.data0':'path_nb_0_data0',\n"
     ]
    }
   ],
   "source": [
    "op.pass_outs_to_next_steps()"
   ]
  }
 ],
 "metadata": {
  "kernelspec": {
   "display_name": "Python 3 (ipykernel)",
   "language": "python",
   "name": "python3"
  },
  "language_info": {
   "codemirror_mode": {
    "name": "ipython",
    "version": 3
   },
   "file_extension": ".py",
   "mimetype": "text/x-python",
   "name": "python",
   "nbconvert_exporter": "python",
   "pygments_lexer": "ipython3",
   "version": "3.10.9"
  }
 },
 "nbformat": 4,
 "nbformat_minor": 5
}
