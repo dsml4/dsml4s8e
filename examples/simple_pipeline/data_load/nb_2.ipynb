{
 "cells": [
  {
   "cell_type": "code",
   "execution_count": 88,
   "id": "27cc73dd-4fff-4cbd-989f-8b4405cd9e91",
   "metadata": {
    "tags": []
   },
   "outputs": [
    {
     "name": "stdout",
     "output_type": "stream",
     "text": [
      "The autoreload extension is already loaded. To reload it, use:\n",
      "  %reload_ext autoreload\n"
     ]
    }
   ],
   "source": [
    "%load_ext autoreload\n",
    "%autoreload 2"
   ]
  },
  {
   "cell_type": "code",
   "execution_count": 97,
   "id": "c8eecfd5-c671-49e0-893e-297ea6a22647",
   "metadata": {
    "tags": [
     "op_parameters"
    ]
   },
   "outputs": [],
   "source": [
    "from dagster import Field\n",
    "from dsml4s8e.dag_params import NbOpParams\n",
    "op_parameters = NbOpParams(\n",
    "    config_schema={\n",
    "        \"b\": Field(\n",
    "            int,\n",
    "            description='this is the paramentr description',\n",
    "            default_value=20\n",
    "            )\n",
    "    },\n",
    "    ins={'simple_pipeline.data_load.nb_1.data1': 'url_nb_1_data1'},\n",
    "    outs=['data2']\n",
    ")"
   ]
  },
  {
   "cell_type": "code",
   "execution_count": 101,
   "id": "b92399a3-1d74-47fb-97f9-148b4596eaab",
   "metadata": {
    "tags": [
     "parameters"
    ]
   },
   "outputs": [],
   "source": [
    "context = op_parameters.get_context()\n",
    "url_nb_1_data1 = \"/home/jovyan/work/dagster_home/storage/f95df29a-95b9-4eb9-9b51-fb10c8cb5f7c/nb_1/data1\""
   ]
  },
  {
   "cell_type": "markdown",
   "id": "e7f76010-4338-4777-a631-1833e28a63b8",
   "metadata": {},
   "source": [
    "# The Interface "
   ]
  },
  {
   "cell_type": "code",
   "execution_count": 102,
   "id": "f69a4a5d-df3e-4954-8bc2-c4238b3bdfac",
   "metadata": {
    "tags": []
   },
   "outputs": [],
   "source": [
    "from dsml4s8e.nb_interface import NBInterface\n",
    "from dsml4s8e.dsmlcatalog.dagster_home import DagsterStorageCatalog\n",
    "nb_interface = NBInterface(\n",
    "    locals_=locals(),\n",
    "    nb_op_params=op_parameters,\n",
    "    storage_catalog=DagsterStorageCatalog(\n",
    "        dagster_context=context)\n",
    ")\n",
    "urls = nb_interface.get_data_urls()"
   ]
  },
  {
   "cell_type": "markdown",
   "id": "0288bb3f-e71e-4eab-995f-12d38d42bf61",
   "metadata": {},
   "source": [
    "# The Body"
   ]
  },
  {
   "cell_type": "code",
   "execution_count": 103,
   "id": "0a80502b-ec7a-43f8-b8d8-f13d75f555fc",
   "metadata": {
    "tags": []
   },
   "outputs": [
    {
     "data": {
      "text/plain": [
       "'/home/jovyan/work/dagster_home/storage/f95df29a-95b9-4eb9-9b51-fb10c8cb5f7c/nb_1/data1'"
      ]
     },
     "execution_count": 103,
     "metadata": {},
     "output_type": "execute_result"
    }
   ],
   "source": [
    "urls.ins.simple_pipeline.data_load.nb_1.data1"
   ]
  },
  {
   "cell_type": "code",
   "execution_count": 104,
   "id": "f4307b48-9ec5-49f9-b806-c100a30a1f98",
   "metadata": {
    "tags": []
   },
   "outputs": [
    {
     "data": {
      "text/plain": [
       "'/home/jovyan/work/dagster_home/storage/6de64dab-e659-434b-9252-0fc6e1122306/nb_2/data2'"
      ]
     },
     "execution_count": 104,
     "metadata": {},
     "output_type": "execute_result"
    }
   ],
   "source": [
    "urls.outs.simple_pipeline.data_load.nb_2.data2"
   ]
  },
  {
   "cell_type": "code",
   "execution_count": 105,
   "id": "5152b0aa-15d0-4d9d-a2fe-31d253cda94e",
   "metadata": {
    "tags": []
   },
   "outputs": [
    {
     "data": {
      "text/plain": [
       "{'b': 20}"
      ]
     },
     "execution_count": 105,
     "metadata": {},
     "output_type": "execute_result"
    }
   ],
   "source": [
    "context.op_config"
   ]
  },
  {
   "cell_type": "code",
   "execution_count": 106,
   "id": "c0c28576-5f54-423d-bd9f-dd25cd79ac9d",
   "metadata": {
    "tags": []
   },
   "outputs": [
    {
     "name": "stdout",
     "output_type": "stream",
     "text": [
      "outs:\n",
      "url_nb_2_data2 = \"/home/jovyan/work/dagster_home/storage/6de64dab-e659-434b-9252-0fc6e1122306/nb_2/data2\"\n"
     ]
    }
   ],
   "source": [
    "nb_interface.send_outs_data_urls_to_next_step()"
   ]
  }
 ],
 "metadata": {
  "kernelspec": {
   "display_name": "Python 3 (ipykernel)",
   "language": "python",
   "name": "python3"
  },
  "language_info": {
   "codemirror_mode": {
    "name": "ipython",
    "version": 3
   },
   "file_extension": ".py",
   "mimetype": "text/x-python",
   "name": "python",
   "nbconvert_exporter": "python",
   "pygments_lexer": "ipython3",
   "version": "3.10.9"
  }
 },
 "nbformat": 4,
 "nbformat_minor": 5
}
