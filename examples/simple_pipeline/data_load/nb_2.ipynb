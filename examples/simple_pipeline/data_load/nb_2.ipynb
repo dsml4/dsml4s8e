{
 "cells": [
  {
   "cell_type": "code",
   "execution_count": 1,
   "id": "27cc73dd-4fff-4cbd-989f-8b4405cd9e91",
   "metadata": {
    "tags": []
   },
   "outputs": [],
   "source": [
    "%load_ext autoreload\n",
    "%autoreload 2"
   ]
  },
  {
   "cell_type": "markdown",
   "id": "a7d835f9-061f-4c9e-beef-a1789b2061ab",
   "metadata": {
    "tags": []
   },
   "source": [
    "# A dagster operation definition"
   ]
  },
  {
   "cell_type": "code",
   "execution_count": 2,
   "id": "c8eecfd5-c671-49e0-893e-297ea6a22647",
   "metadata": {
    "tags": [
     "op_parameters"
    ]
   },
   "outputs": [],
   "source": [
    "from dagster import Field\n",
    "from dsml4s8e.nb_op import NbOp\n",
    "op = NbOp(\n",
    "    config_schema={\n",
    "        \"b\": Field(\n",
    "            int,\n",
    "            description='this is the paramentr description',\n",
    "            default_value=20\n",
    "            )\n",
    "    },\n",
    "    ins={'simple_pipeline.data_load.nb_1.data1':'path_nb_1_data1',\n",
    "         'simple_pipeline.data_load.nb_1.data3':'path_nb_1_data3',\n",
    "         'simple_pipeline.data_load.nb_0.data0':'path_nb_0_data0'\n",
    "         },\n",
    "    outs=['data2']\n",
    ")"
   ]
  },
  {
   "cell_type": "markdown",
   "id": "86bb9f00-d2de-4980-af4e-49e99091ae98",
   "metadata": {
    "jp-MarkdownHeadingCollapsed": true,
    "tags": []
   },
   "source": [
    "A cell with the tag 'paramenters'"
   ]
  },
  {
   "cell_type": "code",
   "execution_count": 3,
   "id": "b92399a3-1d74-47fb-97f9-148b4596eaab",
   "metadata": {
    "tags": [
     "parameters"
    ]
   },
   "outputs": [],
   "source": [
    "context = op.get_context()\n",
    "path_nb_1_data1 = '/home/jovyan/work/dagster_home/storage/859e8c7a-86d8-49c2-beec-24c6b8ed544f/nb_1/data1'\n",
    "path_nb_0_data0 = '/home/jovyan/work/dagster_home/storage/859e8c7a-86d8-49c2-beec-24c6b8ed544f/nb_1/data2'\n",
    "path_nb_1_data3 = '/home/jovyan/work/dagster_home/storage/859e8c7a-86d8-49c2-beec-24c6b8ed544f/nb_1/data3'"
   ]
  },
  {
   "cell_type": "markdown",
   "id": "e7f76010-4338-4777-a631-1833e28a63b8",
   "metadata": {},
   "source": [
    "# The Interface "
   ]
  },
  {
   "cell_type": "code",
   "execution_count": 4,
   "id": "f69a4a5d-df3e-4954-8bc2-c4238b3bdfac",
   "metadata": {
    "tags": []
   },
   "outputs": [],
   "source": [
    "from dsml4s8e.dsmlcatalog.dagster_home import DagsterStorageCatalog\n",
    "catalog = op.get_catalog(\n",
    "    locals_=locals(),\n",
    "    storage_catalog=DagsterStorageCatalog(\n",
    "        dagster_context=context)\n",
    ")"
   ]
  },
  {
   "cell_type": "markdown",
   "id": "0288bb3f-e71e-4eab-995f-12d38d42bf61",
   "metadata": {},
   "source": [
    "# The Body"
   ]
  },
  {
   "cell_type": "code",
   "execution_count": 5,
   "id": "0a80502b-ec7a-43f8-b8d8-f13d75f555fc",
   "metadata": {
    "tags": []
   },
   "outputs": [
    {
     "data": {
      "text/plain": [
       "'/home/jovyan/work/dagster_home/storage/859e8c7a-86d8-49c2-beec-24c6b8ed544f/nb_1/data1'"
      ]
     },
     "execution_count": 5,
     "metadata": {},
     "output_type": "execute_result"
    }
   ],
   "source": [
    "catalog.ins.simple_pipeline.data_load.nb_1.data1"
   ]
  },
  {
   "cell_type": "code",
   "execution_count": 6,
   "id": "76ceef68-7423-42c7-833b-9966acf8ef53",
   "metadata": {
    "tags": []
   },
   "outputs": [
    {
     "data": {
      "text/plain": [
       "'/home/jovyan/work/dagster_home/storage/859e8c7a-86d8-49c2-beec-24c6b8ed544f/nb_1/data2'"
      ]
     },
     "execution_count": 6,
     "metadata": {},
     "output_type": "execute_result"
    }
   ],
   "source": [
    "catalog.ins.simple_pipeline.data_load.nb_0.data0"
   ]
  },
  {
   "cell_type": "code",
   "execution_count": 7,
   "id": "f4307b48-9ec5-49f9-b806-c100a30a1f98",
   "metadata": {
    "tags": []
   },
   "outputs": [
    {
     "data": {
      "text/plain": [
       "'/home/jovyan/work/dagster_home/storage/f909e798-c03d-4fa8-9555-04693a51fe6b/nb_2/data2'"
      ]
     },
     "execution_count": 7,
     "metadata": {},
     "output_type": "execute_result"
    }
   ],
   "source": [
    "catalog.outs.simple_pipeline.data_load.nb_2.data2"
   ]
  },
  {
   "cell_type": "code",
   "execution_count": 8,
   "id": "5152b0aa-15d0-4d9d-a2fe-31d253cda94e",
   "metadata": {
    "tags": []
   },
   "outputs": [
    {
     "data": {
      "text/plain": [
       "{'b': 20}"
      ]
     },
     "execution_count": 8,
     "metadata": {},
     "output_type": "execute_result"
    }
   ],
   "source": [
    "context.op_config"
   ]
  },
  {
   "cell_type": "code",
   "execution_count": 9,
   "id": "c0c28576-5f54-423d-bd9f-dd25cd79ac9d",
   "metadata": {
    "tags": []
   },
   "outputs": [
    {
     "name": "stdout",
     "output_type": "stream",
     "text": [
      "path_nb_2_data2 = '/home/jovyan/work/dagster_home/storage/f909e798-c03d-4fa8-9555-04693a51fe6b/nb_2/data2'\n",
      "\n",
      "(catalog_path: path_variable_name) to put in ins dict of next ops\n",
      "'simple_pipeline.data_load.nb_2.data2':'path_nb_2_data2',\n"
     ]
    }
   ],
   "source": [
    "op.pass_outs_to_next_steps()"
   ]
  }
 ],
 "metadata": {
  "kernelspec": {
   "display_name": "Python 3 (ipykernel)",
   "language": "python",
   "name": "python3"
  },
  "language_info": {
   "codemirror_mode": {
    "name": "ipython",
    "version": 3
   },
   "file_extension": ".py",
   "mimetype": "text/x-python",
   "name": "python",
   "nbconvert_exporter": "python",
   "pygments_lexer": "ipython3",
   "version": "3.10.9"
  }
 },
 "nbformat": 4,
 "nbformat_minor": 5
}
